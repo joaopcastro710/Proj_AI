{
  "nbformat": 4,
  "nbformat_minor": 0,
  "metadata": {
    "colab": {
      "provenance": [],
      "include_colab_link": true
    },
    "kernelspec": {
      "name": "python3",
      "display_name": "Python 3"
    },
    "language_info": {
      "name": "python"
    }
  },
  "cells": [
    {
      "cell_type": "markdown",
      "metadata": {
        "id": "view-in-github",
        "colab_type": "text"
      },
      "source": [
        "<a href=\"https://colab.research.google.com/github/joaopcastro710/Proj_AI/blob/main/Project%202/Proj2.ipynb\" target=\"_parent\"><img src=\"https://colab.research.google.com/assets/colab-badge.svg\" alt=\"Open In Colab\"/></a>"
      ]
    },
    {
      "cell_type": "code",
      "execution_count": 4,
      "metadata": {
        "id": "n7dxm2rKxMxN",
        "colab": {
          "base_uri": "https://localhost:8080/"
        },
        "outputId": "911ebec5-29d7-48a6-ea14-0b9f03112c0f"
      },
      "outputs": [
        {
          "output_type": "stream",
          "name": "stdout",
          "text": [
            "hello\n",
            "bye\n",
            "   user_id          signup_time        purchase_time  purchase_value  \\\n",
            "0    22058  2015-02-24 22:55:49  2015-04-18 02:47:11              34   \n",
            "1   333320  2015-06-07 20:39:50  2015-06-08 01:38:54              16   \n",
            "2     1359  2015-01-01 18:52:44  2015-01-01 18:52:45              15   \n",
            "3   150084  2015-04-28 21:13:25  2015-05-04 13:54:50              44   \n",
            "4   221365  2015-07-21 07:09:52  2015-09-09 18:40:53              39   \n",
            "\n",
            "       device_id source browser sex  age    ip_address  class  \n",
            "0  QVPSPJUOCKZAR    SEO  Chrome   M   39  7.327584e+08      0  \n",
            "1  EOGFQPIZPYXFZ    Ads  Chrome   F   53  3.503114e+08      0  \n",
            "2  YSSKYOSJHPPLJ    SEO   Opera   M   53  2.621474e+09      1  \n",
            "3  ATGTXKYKUDUQN    SEO  Safari   M   41  3.840542e+09      0  \n",
            "4  NAUITBZFJKHWW    Ads  Safari   M   45  4.155831e+08      0  \n",
            "<class 'pandas.core.frame.DataFrame'>\n",
            "RangeIndex: 151112 entries, 0 to 151111\n",
            "Data columns (total 11 columns):\n",
            " #   Column          Non-Null Count   Dtype  \n",
            "---  ------          --------------   -----  \n",
            " 0   user_id         151112 non-null  int64  \n",
            " 1   signup_time     151112 non-null  object \n",
            " 2   purchase_time   151112 non-null  object \n",
            " 3   purchase_value  151112 non-null  int64  \n",
            " 4   device_id       151112 non-null  object \n",
            " 5   source          151112 non-null  object \n",
            " 6   browser         151112 non-null  object \n",
            " 7   sex             151112 non-null  object \n",
            " 8   age             151112 non-null  int64  \n",
            " 9   ip_address      151112 non-null  float64\n",
            " 10  class           151112 non-null  int64  \n",
            "dtypes: float64(1), int64(4), object(6)\n",
            "memory usage: 12.7+ MB\n",
            "None\n",
            "             user_id  purchase_value            age    ip_address  \\\n",
            "count  151112.000000   151112.000000  151112.000000  1.511120e+05   \n",
            "mean   200171.040970       36.935372      33.140704  2.152145e+09   \n",
            "std    115369.285024       18.322762       8.617733  1.248497e+09   \n",
            "min         2.000000        9.000000      18.000000  5.209350e+04   \n",
            "25%    100642.500000       22.000000      27.000000  1.085934e+09   \n",
            "50%    199958.000000       35.000000      33.000000  2.154770e+09   \n",
            "75%    300054.000000       49.000000      39.000000  3.243258e+09   \n",
            "max    400000.000000      154.000000      76.000000  4.294850e+09   \n",
            "\n",
            "               class  \n",
            "count  151112.000000  \n",
            "mean        0.093646  \n",
            "std         0.291336  \n",
            "min         0.000000  \n",
            "25%         0.000000  \n",
            "50%         0.000000  \n",
            "75%         0.000000  \n",
            "max         1.000000  \n"
          ]
        }
      ],
      "source": [
        "print(\"hello\")\n",
        "print(\"bye\")\n",
        "\n",
        "import pandas as pd\n",
        "\n",
        "#TPU google collab\n",
        "\n",
        "train_df = pd.read_csv(\"https://raw.githubusercontent.com/joaopcastro710/Proj_AI/refs/heads/main/Project%202/Dataset2.csv?token=GHSAT0AAAAAADCWDWARSN3HLJV3D7FA6R7S2BA45UA\")\n",
        "\n",
        "# Preview data\n",
        "print(train_df.head())\n",
        "print(train_df.info())\n",
        "print(train_df.describe())\n",
        "\n",
        "#treino: Dataset2.csv\n",
        "#treino: merged_dataset.csv\n",
        "#teste: Dataset1.csv"
      ]
    }
  ]
}